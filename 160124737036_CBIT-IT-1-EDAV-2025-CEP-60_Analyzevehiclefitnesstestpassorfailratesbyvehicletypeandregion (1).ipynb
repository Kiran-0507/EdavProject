{
 "cells": [
  {
   "cell_type": "code",
   "execution_count": null,
   "id": "3235f9c0-7e90-46d4-bd40-96655aaf7c3b",
   "metadata": {},
   "outputs": [],
   "source": [
    "\"\"\"TITLE:\n",
    "    Problem Statement:Analyze vehicle fitness test pass/fail rates by vehicle type and region.\n",
    "    Problem ID:CBIT/IT-1/EDAV/2025/CEP-60\n",
    "    Roll No:160124737036\n",
    "    Name of the student: Sai Kiran Reddy Janammagari\n",
    "    Department of IT\n",
    "    Chaitanya Bharathi Institute of Technology,Hyderabad\n",
    "\n",
    "Problem Description:\n",
    "    The Vehicle Fitness Test ensures that vehicles on the road are safe and roadworthy.\n",
    "    Each vehicle is tested at authorized centers, with results recorded as pass or fail.\n",
    "    This analysis studies pass/fail rates across vehicle types, regions, and test centers to identify trends, high-failure categories, and performance inconsistencies.\n",
    "    The project includes calculating average pass rates, filtering by vehicle type, handling missing results, grouping by test center and vehicle type, and visualizing performance. \n",
    "    Insights from this analysis can help improve vehicle inspections, road safety, and data-driven decision-making.\n",
    "\n",
    "DataSet Link:\n",
    "        https://1drv.ms/x/c/0282a49a9d36a948/EfgEbTUBKBpNmrIRXDUuTzQBqx654kIrM42D18zGvAk5XQ?e=SEt9pA\n",
    "\n",
    "Environment:\n",
    "        python --version:  Python 3.9.1\n",
    "        Libraries Used:numpy \n",
    "                        pandas\"\"\"\n"
   ]
  },
  {
   "cell_type": "code",
   "execution_count": 27,
   "id": "d737777e-3a3d-4868-a6d2-d2099d2ea7f3",
   "metadata": {},
   "outputs": [
    {
     "name": "stdout",
     "output_type": "stream",
     "text": [
      "First 5 rows of the dataset are\n",
      ":\n",
      "  vehicle_id vehicle_type   region test_center   test_date test_result  \\\n",
      "0      V1000        Truck    North        TC01  2024-11-09        Pass   \n",
      "1      V1001         Auto     West        TC02  2025-08-23        Pass   \n",
      "2      V1002          Car    North        TC06  2025-04-21        Pass   \n",
      "3      V1003          Bus    North        TC03  2024-12-09        Pass   \n",
      "4      V1004         Auto  Central        TC02  2024-03-18        Pass   \n",
      "\n",
      "   test_score inspector_name            remarks  \n",
      "0        77.5          Kiran     Brake problems  \n",
      "1        67.9          Meena  Needs maintenance  \n",
      "2        79.7         Deepak      Tyre worn out  \n",
      "3        92.8         Ramesh       Minor issues  \n",
      "4        66.5           Amit   Good performance  \n"
     ]
    }
   ],
   "source": [
    "#Loading the dataset\n",
    "import numpy as np\n",
    "import pandas as pd \n",
    "df = pd.read_csv(r\"C:\\Users\\Hello\\Downloads\\assignment\\vehicle_fitness_data.csv\")  \n",
    "print(\"First 5 rows of the dataset are\\n:\")\n",
    "print(df.head())\n"
   ]
  },
  {
   "cell_type": "code",
   "execution_count": 10,
   "id": "42a294c6-da1a-4d19-baba-ea3badc8ac2e",
   "metadata": {},
   "outputs": [
    {
     "name": "stdout",
     "output_type": "stream",
     "text": [
      "Average pass rate by vehicle type (%)\n",
      " vehicle_type\n",
      "Auto     68.367347\n",
      "Bike     70.408163\n",
      "Bus      68.518519\n",
      "Car      68.695652\n",
      "Truck    76.543210\n",
      "Name: test_result, dtype: float64\n",
      "\n",
      "Average pass rate by region (%)\n",
      " region\n",
      "Central    70.588235\n",
      "East       66.336634\n",
      "North      68.421053\n",
      "South      68.867925\n",
      "West       77.083333\n",
      "Name: test_result, dtype: float64\n"
     ]
    }
   ],
   "source": [
    "#Q1: Calculate average pass rates (BL-3)\n",
    "import numpy as np\n",
    "import pandas as pd                      \n",
    "df = pd.read_csv(r\"C:\\Users\\Hello\\Downloads\\assignment\\vehicle_fitness_data.csv\", parse_dates=[\"test_date\"])  #loading the dataset\n",
    "\n",
    "pass_rate_by_type = (df.groupby(\"vehicle_type\")[\"test_result\"].apply(lambda x: (x == \"Pass\").mean() * 100))  #calculating avg pass rate by vehicle type(coverting into percentage)\n",
    "\n",
    "pass_rate_by_region = (df.groupby(\"region\")[\"test_result\"].apply(lambda x: (x == \"Pass\").mean() * 100))#calculating avg pass rate by region\n",
    "\n",
    "print(\"Average pass rate by vehicle type (%)\\n\", pass_rate_by_type)\n",
    "print(\"\\nAverage pass rate by region (%)\\n\", pass_rate_by_region)\n"
   ]
  },
  {
   "cell_type": "code",
   "execution_count": 13,
   "id": "66a1d17c-b930-40a5-b7b9-bfdb8cd4271d",
   "metadata": {},
   "outputs": [
    {
     "name": "stdout",
     "output_type": "stream",
     "text": [
      "Available vehicle types:\n",
      " ['Truck' 'Auto' 'Car' 'Bus' 'Bike']\n",
      "\n",
      "Filtered data for vehicle type:  Truck\n",
      "   vehicle_id vehicle_type   region test_center  test_date test_result  \\\n",
      "0       V1000        Truck    North        TC01 2024-11-09        Pass   \n",
      "6       V1006        Truck    North        TC05 2025-09-07        Pass   \n",
      "16      V1016        Truck    North        TC08 2025-03-27        Fail   \n",
      "34      V1034        Truck  Central        TC10 2025-01-13        Pass   \n",
      "41      V1041        Truck     East        TC07 2024-01-29        Pass   \n",
      "\n",
      "    test_score inspector_name              remarks  \n",
      "0         77.5          Kiran       Brake problems  \n",
      "6         93.7          Meena   Lights not working  \n",
      "16        54.8          Priya     Good performance  \n",
      "34        82.3           Amit  Excellent condition  \n",
      "41        72.6         Deepak       Brake problems  \n",
      "\n",
      "Total  Truck  records: 81\n"
     ]
    }
   ],
   "source": [
    "# Q2: Filter data by vehicle type (BL-3)\n",
    "import numpy as np\n",
    "import pandas as pd                       \n",
    "df = pd.read_csv(r\"C:\\Users\\Hello\\Downloads\\assignment\\vehicle_fitness_data.csv\", parse_dates=[\"test_date\"])\n",
    "\n",
    "print(\"Available vehicle types:\\n\", df[\"vehicle_type\"].unique()) #printing all the differnt vehicles present in the dataset\n",
    "\n",
    "selected_type = \"Truck\" #selecting a vehicle type to filter\n",
    "\n",
    "filtered_df = df[df[\"vehicle_type\"] == selected_type]\n",
    "\n",
    "print(f\"\\nFiltered data for vehicle type: \",selected_type)\n",
    "print(filtered_df.head())#showing the top 5 rows of the filtered data\n",
    "print(f\"\\nTotal \",selected_type,\" records:\", len(filtered_df))#finding the length of the filtered data\n"
   ]
  },
  {
   "cell_type": "code",
   "execution_count": 28,
   "id": "a50e6d0b-3852-4c85-878f-1f9bab10d043",
   "metadata": {},
   "outputs": [
    {
     "name": "stdout",
     "output_type": "stream",
     "text": [
      "Missing test results before handling:  23\n",
      "Missing test results after handling:  0\n",
      "\n",
      "Value counts after handling missing results:\n",
      " test_result\n",
      "Pass       351\n",
      "Fail       126\n",
      "Pending     23\n",
      "Name: count, dtype: int64\n"
     ]
    }
   ],
   "source": [
    "# Q3: Handle missing test results (BL-4) \n",
    "import numpy as np\n",
    "import pandas as pd\n",
    "df = pd.read_csv(r\"C:\\Users\\Hello\\Downloads\\assignment\\vehicle_fitness_data.csv\", parse_dates=[\"test_date\"])\n",
    "\n",
    "missing_count = df[\"test_result\"].isna().sum()# counting the number of values by sum() which are NaN in the dataset from test_result column\n",
    "print(f\"Missing test results before handling: \",missing_count)\n",
    "\n",
    "df[\"test_result\"] = df[\"test_result\"].fillna(\"Pending\")# filling all the missing values with pending\n",
    "\n",
    "missing_count_after = df[\"test_result\"].isna().sum()  #now counting the number of NaN values(obviously we get 0 because we filled all the missing values with pending)\n",
    "print(f\"Missing test results after handling: \",missing_count_after)\n",
    "\n",
    "print(\"\\nValue counts after handling missing results:\\n\", df[\"test_result\"].value_counts())# value_count() function is used to find the sum of pass,fail and pending values \n"
   ]
  },
  {
   "cell_type": "code",
   "execution_count": 30,
   "id": "ffd8e059-763f-4f4d-b03b-3870fe7f747f",
   "metadata": {},
   "outputs": [
    {
     "name": "stdout",
     "output_type": "stream",
     "text": [
      "Pass Rate by Test Center and Vehicle Type:\n",
      "\n",
      "   test_center vehicle_type   pass_rate\n",
      "0         TC01         Auto   41.666667\n",
      "1         TC01         Bike   75.000000\n",
      "2         TC01          Bus   66.666667\n",
      "3         TC01          Car   66.666667\n",
      "4         TC01        Truck   83.333333\n",
      "5         TC02         Auto   77.777778\n",
      "6         TC02         Bike   50.000000\n",
      "7         TC02          Bus   64.285714\n",
      "8         TC02          Car   81.250000\n",
      "9         TC02        Truck   57.142857\n",
      "10        TC03         Auto   55.555556\n",
      "11        TC03         Bike   77.777778\n",
      "12        TC03          Bus   45.454545\n",
      "13        TC03          Car  100.000000\n",
      "14        TC03        Truck   87.500000\n",
      "15        TC04         Auto  100.000000\n",
      "16        TC04         Bike   84.615385\n",
      "17        TC04          Bus   81.818182\n",
      "18        TC04          Car   63.636364\n",
      "19        TC04        Truck   66.666667\n",
      "20        TC05         Auto   80.000000\n",
      "21        TC05         Bike   50.000000\n",
      "22        TC05          Bus   62.500000\n",
      "23        TC05          Car   57.142857\n",
      "24        TC05        Truck  100.000000\n",
      "25        TC06         Auto   50.000000\n",
      "26        TC06         Bike   50.000000\n",
      "27        TC06          Bus   81.818182\n",
      "28        TC06          Car   78.571429\n",
      "29        TC06        Truck  100.000000\n",
      "30        TC07         Auto   73.333333\n",
      "31        TC07         Bike   50.000000\n",
      "32        TC07          Bus   61.538462\n",
      "33        TC07          Car   91.666667\n",
      "34        TC07        Truck   88.888889\n",
      "35        TC08         Auto   62.500000\n",
      "36        TC08         Bike   66.666667\n",
      "37        TC08          Bus   80.000000\n",
      "38        TC08          Car   63.636364\n",
      "39        TC08        Truck   50.000000\n",
      "40        TC09         Auto   60.000000\n",
      "41        TC09         Bike  100.000000\n",
      "42        TC09          Bus   81.250000\n",
      "43        TC09          Car   35.714286\n",
      "44        TC09        Truck   50.000000\n",
      "45        TC10         Auto  100.000000\n",
      "46        TC10         Bike   77.777778\n",
      "47        TC10          Bus   57.142857\n",
      "48        TC10          Car   66.666667\n",
      "49        TC10        Truck   90.000000\n"
     ]
    }
   ],
   "source": [
    "#Q4: Group data by test center and vehicle category (BL-4)\n",
    "\n",
    "import pandas as pd\n",
    "\n",
    "df = pd.read_csv(r\"C:\\Users\\Hello\\Downloads\\assignment\\vehicle_fitness_data.csv\", parse_dates=[\"test_date\"])\n",
    "\n",
    "df[\"test_result\"] = df[\"test_result\"].fillna(\"Pending\")# filling all the missing values with pending\n",
    "\n",
    "grouped = (df.groupby([\"test_center\", \"vehicle_type\"])[\"test_result\"]\n",
    "           .apply(lambda x: (x == \"Pass\").mean() * 100)  \n",
    "           .reset_index(name=\"pass_rate\"))    #calculating pass rate\n",
    "\n",
    "print(\"Pass Rate by Test Center and Vehicle Type:\\n\")\n",
    "print(grouped)\n"
   ]
  },
  {
   "cell_type": "code",
   "execution_count": null,
   "id": "91a2d724-c87f-4d0f-ab34-8fea29821206",
   "metadata": {},
   "outputs": [],
   "source": []
  }
 ],
 "metadata": {
  "kernelspec": {
   "display_name": "Python [conda env:base] *",
   "language": "python",
   "name": "conda-base-py"
  },
  "language_info": {
   "codemirror_mode": {
    "name": "ipython",
    "version": 3
   },
   "file_extension": ".py",
   "mimetype": "text/x-python",
   "name": "python",
   "nbconvert_exporter": "python",
   "pygments_lexer": "ipython3",
   "version": "3.13.5"
  }
 },
 "nbformat": 4,
 "nbformat_minor": 5
}
